
{
 "cells": [
  {
   "cell_type": "markdown",
   "metadata": {},
   "source": [
    "# Code:Nation's Pandas-2 Challenge"
   ]
  },
  {
   "cell_type": "markdown",
   "metadata": {},
   "source": [
    "Você precisará de python 3.6 (ou superior) e o módulo pandas. Você pode instalar o que precisa com o arquivo `requirements.txt`.\n",
    "\n",
    "Para cada questão será preciso criar uma função que retorna o resultado solicitado, conforme o exemplo **Q0** abaixo. No arquivo `sanity_checks.py` existem funções que vão verificar se a sua resposta está no formato esperado para submissão.\n",
    "\n",
    "Todas as perguntas são referentes ao arquivo `data.csv`\n",
    "\n",
    "Você **não** pode utilizar o pandas e nem o numpy para este desafio."
   ]
  },
  {
   "cell_type": "code",
   "execution_count": 90,
   "metadata": {},
   "outputs": [
    {
     "data": {
      "text/plain": [
       "array(['ID', 'name', 'full_name', 'club', 'club_logo', 'special', 'age',\n",
       "       'league', 'birth_date', 'height_cm', 'weight_kg', 'body_type',\n",
       "       'real_face', 'flag', 'nationality', 'photo', 'eur_value',\n",
       "       'eur_wage', 'eur_release_clause', 'overall', 'potential', 'pac',\n",
       "       'sho', 'pas', 'dri', 'def', 'phy', 'international_reputation',\n",
       "       'skill_moves', 'weak_foot', 'work_rate_att', 'work_rate_def',\n",
       "       'preferred_foot', 'crossing', 'finishing', 'heading_accuracy',\n",
       "       'short_passing', 'volleys', 'dribbling', 'curve',\n",
       "       'free_kick_accuracy', 'long_passing', 'ball_control',\n",
       "       'acceleration', 'sprint_speed', 'agility', 'reactions', 'balance',\n",
       "       'shot_power', 'jumping', 'stamina', 'strength', 'long_shots',\n",
       "       'aggression', 'interceptions', 'positioning', 'vision',\n",
       "       'penalties', 'composure', 'marking', 'standing_tackle',\n",
       "       'sliding_tackle', 'gk_diving', 'gk_handling', 'gk_kicking',\n",
       "       'gk_positioning', 'gk_reflexes', 'rs', 'rw', 'rf', 'ram', 'rcm',\n",
       "       'rm', 'rdm', 'rcb', 'rb', 'rwb', 'st', 'lw', 'cf', 'cam', 'cm',\n",
       "       'lm', 'cdm', 'cb', 'lb', 'lwb', 'ls', 'lf', 'lam', 'lcm', 'ldm',\n",
       "       'lcb', 'gk', '1_on_1_rush_trait', 'acrobatic_clearance_trait',\n",
       "       'argues_with_officials_trait', 'avoids_using_weaker_foot_trait',\n",
       "       'backs_into_player_trait', 'bicycle_kicks_trait',\n",
       "       'cautious_with_crosses_trait', 'chip_shot_trait',\n",
       "       'chipped_penalty_trait', 'comes_for_crosses_trait',\n",
       "       'corner_specialist_trait', 'diver_trait',\n",
       "       'dives_into_tackles_trait', 'diving_header_trait',\n",
       "       'driven_pass_trait', 'early_crosser_trait',\n",
       "       \"fan's_favourite_trait\", 'fancy_flicks_trait',\n",
       "       'finesse_shot_trait', 'flair_trait', 'flair_passes_trait',\n",
       "       'gk_flat_kick_trait', 'gk_long_throw_trait',\n",
       "       'gk_up_for_corners_trait', 'giant_throw_in_trait',\n",
       "       'inflexible_trait', 'injury_free_trait', 'injury_prone_trait',\n",
       "       'leadership_trait', 'long_passer_trait', 'long_shot_taker_trait',\n",
       "       'long_throw_in_trait', 'one_club_player_trait',\n",
       "       'outside_foot_shot_trait', 'playmaker_trait',\n",
       "       'power_free_kick_trait', 'power_header_trait', 'puncher_trait',\n",
       "       'rushes_out_of_goal_trait', 'saves_with_feet_trait',\n",
       "       'second_wind_trait', 'selfish_trait', 'skilled_dribbling_trait',\n",
       "       'stutter_penalty_trait', 'swerve_pass_trait',\n",
       "       'takes_finesse_free_kicks_trait', 'target_forward_trait',\n",
       "       'team_player_trait', 'technical_dribbler_trait',\n",
       "       'tries_to_beat_defensive_line_trait', 'poacher_speciality',\n",
       "       'speedster_speciality', 'aerial_threat_speciality',\n",
       "       'dribbler_speciality', 'playmaker_speciality', 'engine_speciality',\n",
       "       'distance_shooter_speciality', 'crosser_speciality',\n",
       "       'free_kick_specialist_speciality', 'tackling_speciality',\n",
       "       'tactician_speciality', 'acrobat_speciality',\n",
       "       'strength_speciality', 'clinical_finisher_speciality',\n",
       "       'prefers_rs', 'prefers_rw', 'prefers_rf', 'prefers_ram',\n",
       "       'prefers_rcm', 'prefers_rm', 'prefers_rdm', 'prefers_rcb',\n",
       "       'prefers_rb', 'prefers_rwb', 'prefers_st', 'prefers_lw',\n",
       "       'prefers_cf', 'prefers_cam', 'prefers_cm', 'prefers_lm',\n",
       "       'prefers_cdm', 'prefers_cb', 'prefers_lb', 'prefers_lwb',\n",
       "       'prefers_ls', 'prefers_lf', 'prefers_lam', 'prefers_lcm',\n",
       "       'prefers_ldm', 'prefers_lcb', 'prefers_gk'], dtype=object)"
      ]
     },
     "execution_count": 90,
     "metadata": {},
     "output_type": "execute_result"
    }
   ],
   "source": [
    "import sanity_checks as sc\n",
    "import pandas as pd\n",
    "\n",
    "df = pd.read_csv('data.csv')\n",
    "df.columns.values"
   ]
  },
  {
   "cell_type": "markdown",
   "metadata": {},
   "source": [
    "**Q0.** Cria um dataframe vazio."
   ]
  },
  {
   "cell_type": "code",
   "execution_count": 3,
   "metadata": {},
   "outputs": [],
   "source": [
    "def part_0():\n",
    "    return pd.DataFrame()\n",
    "\n",
    "assert sc.part_0(part_0())"
   ]
  },
  {
   "cell_type": "markdown",
   "metadata": {},
   "source": [
    "**Q1.** Quais clubes possuem jogadores de pelo menos 15 nacionalidades diferentes?\n"
   ]
  },
  {
   "cell_type": "code",
   "execution_count": 250,
   "metadata": {
    "scrolled": true
   },
   "outputs": [],
   "source": [
    "def part_1():\n",
    "    a = df.groupby(['club'])['nationality'].nunique()\n",
    "    a = a[a > 14].index.to_series()\n",
    "    return a\n",
    "\n",
    "assert sc.part_1(part_1())"
   ]
  },
  {
   "cell_type": "markdown",
   "metadata": {},
   "source": [
    "**Q2.** Qual a nacionalidade com a média de jogadores mais pesados?"
   ]
  },
  {
   "cell_type": "code",
   "execution_count": 88,
   "metadata": {},
   "outputs": [],
   "source": [
    "def part_2():\n",
    "    b = df.groupby('nationality')['weight_kg'].aggregate('mean').sort_values(ascending=False)\n",
    "    return b.index[0]\n",
    "\n",
    "assert sc.part_2(part_2())"
   ]
  },
  {
   "cell_type": "markdown",
   "metadata": {},
   "source": [
    "**Q3.** Dos jogadores que tem mais de 1.90 de altura quantos são da Espanha?"
   ]
  },
  {
   "cell_type": "code",
   "execution_count": 125,
   "metadata": {},
   "outputs": [],
   "source": [
    "def part_3():\n",
    "    c = df[df.height_cm > 190].groupby('nationality').size()\n",
    "    return c[c.index == 'Spain'][0]\n",
    "\n",
    "assert sc.part_3(part_3())"
   ]
  },
  {
   "cell_type": "markdown",
   "metadata": {},
   "source": [
    "**Q4.** Quantos jogadores tem ao menos 3 posições preferidas? Utilize as colunas que iniciam com `prefers_`."
   ]
  },
  {
   "cell_type": "code",
   "execution_count": 151,
   "metadata": {},
   "outputs": [],
   "source": [
    "def part_4():\n",
    "    d = df.iloc[:, -27:-1]\n",
    "    d = d.sum(axis=1)\n",
    "    return len(d[d>=3])\n",
    "\n",
    "assert sc.part_4(part_4())"
   ]
  },
  {
   "cell_type": "markdown",
   "metadata": {},
   "source": [
    "**Q5.** Quantas pessoas pertencem a clubes que possuem jogadores de pelo menos 10 nacionalidades diferentes?"
   ]
  },
  {
   "cell_type": "code",
   "execution_count": 274,
   "metadata": {},
   "outputs": [],
   "source": [
    "def part_5():\n",
    "    e = df.groupby(['club'])['nationality'].nunique()\n",
    "    e = e[e>9].index\n",
    "    return len(df.loc[df.club.isin(e)])\n",
    "\n",
    "assert sc.part_5(part_5())"
   ]
  },
  {
   "cell_type": "code",
   "execution_count": 273,
   "metadata": {},
   "outputs": [
    {
     "data": {
      "text/plain": [
       "6058"
      ]
     },
     "execution_count": 273,
     "metadata": {},
     "output_type": "execute_result"
    }
   ],
   "source": []
  }
 ],
 "metadata": {
  "kernelspec": {
   "display_name": "Python 3",
   "language": "python",
   "name": "python3"
  },
  "language_info": {
   "codemirror_mode": {
    "name": "ipython",
    "version": 3
   },
   "file_extension": ".py",
   "mimetype": "text/x-python",
   "name": "python",
   "nbconvert_exporter": "python",
   "pygments_lexer": "ipython3",
   "version": "3.6.5"
  }
 },
 "nbformat": 4,
 "nbformat_minor": 2
}
