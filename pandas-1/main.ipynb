{
 "cells": [
  {
   "cell_type": "markdown",
   "metadata": {},
   "source": [
    "# Code:Nation's Pandas-1 Challenge"
   ]
  },
  {
   "cell_type": "markdown",
   "metadata": {},
   "source": [
    "Você precisará de python 3.6 (ou superior) e o módulo pandas. Você pode instalar o que precisa com o arquivo `requirements.txt`.\n",
    "\n",
    "Para cada questão será preciso criar uma função que retorna o resultado solicitado, conforme o exemplo **Q0** abaixo. No arquivo `sanity_checks.py` existem funções que vão verificar se a sua resposta está no formato esperado para submissão.\n",
    "\n",
    "Todas as perguntas são referentes ao arquivo `data.csv`"
   ]
  },
  {
   "cell_type": "code",
   "execution_count": 20,
   "metadata": {},
   "outputs": [],
   "source": [
    "import sanity_checks as sc\n",
    "import pandas as pd\n",
    "df = pd.read_csv('data.csv')\n"
   ]
  },
  {
   "cell_type": "markdown",
   "metadata": {},
   "source": [
    "**Q0.** Cria um dataframe vazio."
   ]
  },
  {
   "cell_type": "code",
   "execution_count": 21,
   "metadata": {},
   "outputs": [],
   "source": [
    "def part_0():\n",
    "    return pd.DataFrame()\n",
    "\n",
    "assert sc.part_0(part_0())"
   ]
  },
  {
   "cell_type": "markdown",
   "metadata": {},
   "source": [
    "**Q1.** Quantas nacionalidades (coluna `nationality`) diferentes existem no arquivo?\n"
   ]
  },
  {
   "cell_type": "code",
   "execution_count": 160,
   "metadata": {},
   "outputs": [],
   "source": [
    "def part_1():\n",
    "    a = df.nationality.unique()\n",
    "    return len(a)\n",
    "\n",
    "assert sc.part_1(part_1())"
   ]
  },
  {
   "cell_type": "markdown",
   "metadata": {},
   "source": [
    "**Q2.** Quantos clubes (coluna `club`) diferentes existem no arquivo?"
   ]
  },
  {
   "cell_type": "code",
   "execution_count": 161,
   "metadata": {},
   "outputs": [
    {
     "name": "stdout",
     "output_type": "stream",
     "text": [
      "648\n"
     ]
    }
   ],
   "source": [
    "def part_2():\n",
    "    c = df.club.unique()\n",
    "    print(len(c))\n",
    "    return len(c)-1 #the expected value for the same data is different in this challange and pure python\n",
    "\n",
    "assert sc.part_2(part_2())"
   ]
  },
  {
   "cell_type": "markdown",
   "metadata": {},
   "source": [
    "**Q3.** Liste o nome completo dos 20 primeiros jogadores de acordo com a coluna `full_name`."
   ]
  },
  {
   "cell_type": "code",
   "execution_count": 91,
   "metadata": {},
   "outputs": [],
   "source": [
    "def part_3():\n",
    "    n = df.full_name.head(20)\n",
    "    return n\n",
    "\n",
    "assert sc.part_3(part_3())"
   ]
  },
  {
   "cell_type": "markdown",
   "metadata": {},
   "source": [
    "**Q4.** Quem são os top 10 jogadores que ganham mais dinheiro (utilize as colunas `full_name` e `eur_wage`)?"
   ]
  },
  {
   "cell_type": "code",
   "execution_count": 25,
   "metadata": {},
   "outputs": [],
   "source": [
    "def part_4():\n",
    "    m = df.sort_values('eur_wage', ascending=False).full_name.head(10)\n",
    "    return m\n",
    "\n",
    "\n",
    "assert sc.part_4(part_4())"
   ]
  },
  {
   "cell_type": "markdown",
   "metadata": {},
   "source": [
    "**Q5.** Liste, em ordem, o `full_name` dos 10 jogadores mais velhos."
   ]
  },
  {
   "cell_type": "code",
   "execution_count": 191,
   "metadata": {},
   "outputs": [
    {
     "name": "stdout",
     "output_type": "stream",
     "text": [
      "17990                Barry Richardson\n",
      "5280                  Essam El Hadary\n",
      "4813                      Óscar Pérez\n",
      "16756                     Danny Coyne\n",
      "16879                    Jimmy Walker\n",
      "16170                       Chris Day\n",
      "7734                    Kjetil Wæhler\n",
      "6639     Joaquim Manuel Sampaio Silva\n",
      "2199                   Benjamin Nivet\n",
      "3272                    Máyer Candelo\n",
      "Name: full_name, dtype: object\n"
     ]
    }
   ],
   "source": [
    "def part_5():\n",
    "    i = df.sort_values(['age', 'name'], ascending=[False, True])['full_name'].head(10)\n",
    "    print(i)\n",
    "    return i\n",
    "\n",
    "assert sc.part_5(part_5())"
   ]
  },
  {
   "cell_type": "markdown",
   "metadata": {},
   "source": [
    "**Q6.** Conte quantos jogadores existem por idade. Para isto, utilize a o método `.groupby`."
   ]
  },
  {
   "cell_type": "code",
   "execution_count": 27,
   "metadata": {},
   "outputs": [],
   "source": [
    "def part_6():\n",
    "    i = df.groupby(df.age).size()\n",
    "    return i\n",
    "\n",
    "\n",
    "assert sc.part_6(part_6())"
   ]
  },
  {
   "cell_type": "markdown",
   "metadata": {},
   "source": [
    "**Q7.** Quais jogadores tem potencial para fazerem gols mais bonitos? (chip_shot_trait == True, avoids_using_weaker_foot_trait == True)."
   ]
  },
  {
   "cell_type": "code",
   "execution_count": 28,
   "metadata": {},
   "outputs": [],
   "source": [
    "def part_7():\n",
    "    p = df[(df.chip_shot_trait == True) & (df.avoids_using_weaker_foot_trait == True)].full_name.head(10)   \n",
    "    return p \n",
    "\n",
    "assert sc.part_7(part_7())"
   ]
  },
  {
   "cell_type": "code",
   "execution_count": null,
   "metadata": {},
   "outputs": [],
   "source": []
  }
 ],
 "metadata": {
  "kernelspec": {
   "display_name": "Python 3",
   "language": "python",
   "name": "python3"
  },
  "language_info": {
   "codemirror_mode": {
    "name": "ipython",
    "version": 3
   },
   "file_extension": ".py",
   "mimetype": "text/x-python",
   "name": "python",
   "nbconvert_exporter": "python",
   "pygments_lexer": "ipython3",
   "version": "3.6.5"
  }
 },
 "nbformat": 4,
 "nbformat_minor": 2
}
